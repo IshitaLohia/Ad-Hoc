{
  "nbformat": 4,
  "nbformat_minor": 0,
  "metadata": {
    "colab": {
      "provenance": [],
      "authorship_tag": "ABX9TyNoVoRMPo1p3dD+fi0jTfmC",
      "include_colab_link": true
    },
    "kernelspec": {
      "name": "python3",
      "display_name": "Python 3"
    },
    "language_info": {
      "name": "python"
    }
  },
  "cells": [
    {
      "cell_type": "markdown",
      "metadata": {
        "id": "view-in-github",
        "colab_type": "text"
      },
      "source": [
        "<a href=\"https://colab.research.google.com/github/IshitaLohia/Ad-Hoc/blob/main/Python_Day_1.ipynb\" target=\"_parent\"><img src=\"https://colab.research.google.com/assets/colab-badge.svg\" alt=\"Open In Colab\"/></a>"
      ]
    },
    {
      "cell_type": "code",
      "execution_count": null,
      "metadata": {
        "id": "U4yoeKuroA2W"
      },
      "outputs": [],
      "source": [
        "#Flatenning nested dictionaries in Python\n",
        "\n",
        "my_list = [\n",
        "  {\"product_id\": 101, \"info\": {\"category\": \"books\", \"price\": 9.99}},\n",
        "  {\"product_id\": 102, \"info\": {\"category\": \"electronics\", \"price\": 49.99}},\n",
        "]\n"
      ]
    },
    {
      "cell_type": "code",
      "source": [
        "flattened_list = []\n",
        "\n",
        "for item in my_list:\n",
        "    flat_item = {\n",
        "        \"product_id\": item[\"product_id\"],\n",
        "        \"category\": item[\"info\"][\"category\"],\n",
        "        \"price\": item[\"info\"][\"price\"]\n",
        "    }\n",
        "    flattened_list.append(flat_item)\n",
        "\n",
        "print(flattened_list)\n",
        "\n",
        "\n"
      ],
      "metadata": {
        "colab": {
          "base_uri": "https://localhost:8080/"
        },
        "id": "DraknWdOp7lB",
        "outputId": "e8d71003-4e87-4cea-e672-0264c5d705c5"
      },
      "execution_count": null,
      "outputs": [
        {
          "output_type": "stream",
          "name": "stdout",
          "text": [
            "[{'product_id': 101, 'category': 'books', 'price': 9.99}, {'product_id': 102, 'category': 'electronics', 'price': 49.99}]\n"
          ]
        }
      ]
    },
    {
      "cell_type": "code",
      "source": [
        "#Clean and transform logs\n",
        "#Write a function that parses them into structured dictionaries and filters out logs where event != 'click'.\n",
        "my_list =[\n",
        "  \"user_id:101,event:click,page:home\",\n",
        "  \"user_id:102,event:view,page:search\"\n",
        "]\n"
      ],
      "metadata": {
        "id": "P8jKujWqryBA"
      },
      "execution_count": null,
      "outputs": []
    },
    {
      "cell_type": "code",
      "source": [
        "def clean_click_logs(logs):\n",
        "    result = []\n",
        "    for log in logs:\n",
        "        entry = {}\n",
        "        parts = log.split(',')\n",
        "        for item in parts:\n",
        "            key, value = item.split(':')\n",
        "            entry[key] = value\n",
        "        if entry['event'] == \"click\":\n",
        "            result.append(entry)\n",
        "    return result\n"
      ],
      "metadata": {
        "id": "KAa-eSXSsXv_"
      },
      "execution_count": null,
      "outputs": []
    },
    {
      "cell_type": "code",
      "source": [
        "logs = [\n",
        "  \"user_id:101,event:click,page:home\",\n",
        "  \"user_id:102,event:view,page:search\"\n",
        "]\n",
        "\n",
        "print(clean_click_logs(logs))\n"
      ],
      "metadata": {
        "colab": {
          "base_uri": "https://localhost:8080/"
        },
        "id": "71XiQwAJsY9S",
        "outputId": "9a01c901-eaef-4999-dcb8-76891b19c1b3"
      },
      "execution_count": null,
      "outputs": [
        {
          "output_type": "stream",
          "name": "stdout",
          "text": [
            "[{'user_id': '101', 'event': 'click', 'page': 'home'}]\n"
          ]
        }
      ]
    },
    {
      "cell_type": "code",
      "source": [
        "#Top K frequent words\n",
        "\n",
        "terms = [\"tablet\", \"tablet\", \"laptop\", \"tablet\", \"laptop\", \"monitor\"]\n",
        "\n",
        "#[(\"tablet\", 3), (\"laptop\", 2)]\n",
        "\n",
        "\n"
      ],
      "metadata": {
        "id": "6-YMt0EWtb3p"
      },
      "execution_count": null,
      "outputs": []
    },
    {
      "cell_type": "code",
      "source": [
        "from collections import Counter\n",
        "\n",
        "def top_k_terms(terms, k):\n",
        "    freq = Counter(terms)\n",
        "    return freq.most_common(k)\n",
        "\n"
      ],
      "metadata": {
        "id": "EgefKOJgtlQC"
      },
      "execution_count": null,
      "outputs": []
    },
    {
      "cell_type": "code",
      "source": [
        "\n",
        "print(top_k_terms(terms, 2))\n"
      ],
      "metadata": {
        "colab": {
          "base_uri": "https://localhost:8080/"
        },
        "id": "jN0ddLJAugyY",
        "outputId": "3a96d32b-4d7e-4b37-e7b0-6e75d9ccff37"
      },
      "execution_count": null,
      "outputs": [
        {
          "output_type": "stream",
          "name": "stdout",
          "text": [
            "[('tablet', 3), ('laptop', 2)]\n"
          ]
        }
      ]
    },
    {
      "cell_type": "code",
      "source": [
        "#Another way -\n",
        "\n",
        "def top_k_terms_manual(terms, k):\n",
        "    freq_dict = {}\n",
        "\n",
        "    # Step 1: Count frequencies\n",
        "    for term in terms:\n",
        "        if term in freq_dict:\n",
        "            freq_dict[term] += 1\n",
        "        else:\n",
        "            freq_dict[term] = 1\n",
        "\n",
        "    # Step 2: Sort by frequency in descending order\n",
        "    sorted_items = sorted(freq_dict.items(), key=lambda x: x[1], reverse=True)\n",
        "\n",
        "    # Step 3: Return top k\n",
        "    return sorted_items[:k]\n"
      ],
      "metadata": {
        "id": "56Y4yMrDvkky"
      },
      "execution_count": null,
      "outputs": []
    },
    {
      "cell_type": "code",
      "source": [
        "\n",
        "print(top_k_terms_manual(terms, 2))"
      ],
      "metadata": {
        "colab": {
          "base_uri": "https://localhost:8080/"
        },
        "id": "sCJA-Ow_vpN2",
        "outputId": "bca746bf-ff38-4713-8126-7f2dfa389db1"
      },
      "execution_count": null,
      "outputs": [
        {
          "output_type": "stream",
          "name": "stdout",
          "text": [
            "[('tablet', 3), ('laptop', 2)]\n"
          ]
        }
      ]
    },
    {
      "cell_type": "code",
      "source": [
        "#Find duplicate orders -\n",
        "\n",
        "x = [\n",
        "  {\"order_id\": 1, \"customer_id\": 101},\n",
        "  {\"order_id\": 2, \"customer_id\": 102},\n",
        "  {\"order_id\": 3, \"customer_id\": 101}\n",
        "]\n"
      ],
      "metadata": {
        "id": "OU_1d2ppr_67"
      },
      "execution_count": null,
      "outputs": []
    },
    {
      "cell_type": "code",
      "source": [
        "def find_duplicate_customers(orders):\n",
        "    customer_count = {}\n",
        "\n",
        "    for order in orders:\n",
        "        customer_id = order[\"customer_id\"]\n",
        "        if customer_id in customer_count:\n",
        "            customer_count[customer_id] += 1\n",
        "        else:\n",
        "            customer_count[customer_id] = 1\n",
        "\n",
        "    duplicates = [cid for cid, count in customer_count.items() if count > 1]\n",
        "    return duplicates\n",
        "print(find_duplicate_customers(x))"
      ],
      "metadata": {
        "colab": {
          "base_uri": "https://localhost:8080/"
        },
        "id": "p5YEt6fUwfuq",
        "outputId": "b2ac72db-da0d-43c3-d4b0-8fa2c70bc100"
      },
      "execution_count": null,
      "outputs": [
        {
          "output_type": "stream",
          "name": "stdout",
          "text": [
            "[101]\n"
          ]
        }
      ]
    },
    {
      "cell_type": "code",
      "source": [
        "# 🔹 Q5: Simulate Daily Active Users (DAU)\n",
        "# Given a list of user events:\n",
        "# Write a function to calculate the number of unique daily active users per day.\n",
        "\n",
        "[\n",
        "  {\"user_id\": 1, \"timestamp\": \"2024-05-01\"},\n",
        "  {\"user_id\": 2, \"timestamp\": \"2024-05-01\"},\n",
        "  {\"user_id\": 1, \"timestamp\": \"2024-05-02\"}\n",
        "]\n"
      ],
      "metadata": {
        "id": "0Lmei6VpxYDJ"
      },
      "execution_count": null,
      "outputs": []
    },
    {
      "cell_type": "code",
      "source": [
        "#🔹 Q6: Anomaly Detection in Sales\n",
        "# You’re given a list of daily sales per region:\n",
        "# Write a function to identify any dates where sales are more than 2 standard deviations below the average sales for that region.\n",
        " [\n",
        "  {\"region\": \"north\", \"date\": \"2024-05-01\", \"sales\": 1000},\n",
        "  {\"region\": \"north\", \"date\": \"2024-05-02\", \"sales\": 400},\n",
        "  {\"region\": \"north\", \"date\": \"2024-05-03\", \"sales\": 1200},\n",
        "]\n"
      ],
      "metadata": {
        "id": "PiiBqykHxeZ2"
      },
      "execution_count": null,
      "outputs": []
    },
    {
      "cell_type": "code",
      "source": [
        "# Day 2 - Write a function to parse each string into a dictionary and return only those logs where event == 'click'.\n",
        "logs = [\"user_id:101,event:click,page:home\", \"user_id:102,event:view,page:search\"]\n"
      ],
      "metadata": {
        "id": "6Y58VSPQKr4O"
      },
      "execution_count": 1,
      "outputs": []
    },
    {
      "cell_type": "code",
      "source": [
        "Logs =[]\n",
        "for data in logs:\n",
        "  result ={}\n",
        "  parts=data.split(',')\n",
        "  for x in parts:\n",
        "        key, value = x.split(':')\n",
        "        result[key]= value\n",
        "  if result['event'] == \"click\":\n",
        "            Logs.append(result)\n",
        "\n"
      ],
      "metadata": {
        "id": "hOPafJmyK0wp"
      },
      "execution_count": 14,
      "outputs": []
    },
    {
      "cell_type": "code",
      "source": [
        "  print(Logs)"
      ],
      "metadata": {
        "colab": {
          "base_uri": "https://localhost:8080/"
        },
        "id": "OAv8MW0CN4OA",
        "outputId": "2a424924-2b21-4300-9667-ec35ede14405"
      },
      "execution_count": 15,
      "outputs": [
        {
          "output_type": "stream",
          "name": "stdout",
          "text": [
            "[{'user_id': '101', 'event': 'click', 'page': 'home'}]\n"
          ]
        }
      ]
    },
    {
      "cell_type": "code",
      "source": [
        "# Task: Write a function to calculate total spend per customer and return a dictionary like: {1: 250, 2: 200} This is a purchase record\n",
        "data = [\n",
        "    {\"customer_id\": 1, \"order_amount\": 100},\n",
        "    {\"customer_id\": 2, \"order_amount\": 200},\n",
        "    {\"customer_id\": 1, \"order_amount\": 150}\n",
        "]\n"
      ],
      "metadata": {
        "id": "92SOqbCROdPx"
      },
      "execution_count": 17,
      "outputs": []
    },
    {
      "cell_type": "code",
      "source": [
        "\n",
        "def total_spend_by_customer(data):\n",
        "    spend_dict = {}\n",
        "\n",
        "    for record in data:\n",
        "        cid = record['customer_id']\n",
        "        amount = record['order_amount']\n",
        "\n",
        "        if cid in spend_dict:\n",
        "            spend_dict[cid] += amount\n",
        "        else:\n",
        "            spend_dict[cid] = amount\n",
        "\n",
        "    return spend_dict\n",
        "\n",
        "print(total_spend_by_customer(data))\n",
        "\n"
      ],
      "metadata": {
        "colab": {
          "base_uri": "https://localhost:8080/"
        },
        "id": "Nkh5D3bLOoef",
        "outputId": "ab7da575-d4e9-44cb-9201-43c79680c6fc"
      },
      "execution_count": 20,
      "outputs": [
        {
          "output_type": "stream",
          "name": "stdout",
          "text": [
            "{1: 250, 2: 200}\n"
          ]
        }
      ]
    },
    {
      "cell_type": "code",
      "source": [
        "# Basic Logic and deduplication - Task:Write a function to return only those customer IDs that appear more than once (duplicates only), in sorted order.\n",
        "customers = [101, 102, 101, 103, 102]\n"
      ],
      "metadata": {
        "id": "_Ngw4n4vQsTz"
      },
      "execution_count": 22,
      "outputs": []
    },
    {
      "cell_type": "code",
      "source": [
        "def find_duplicates(customers):\n",
        "    count = {}\n",
        "    for cust in customers:\n",
        "        if cust in count:\n",
        "            count[cust] += 1\n",
        "        else:\n",
        "            count[cust] = 1\n",
        "\n",
        "    # Filter customers with count > 1 and return sorted list\n",
        "    duplicates = [cust for cust, c in count.items() if c > 1]\n",
        "    return sorted(duplicates)\n",
        "\n",
        "print(find_duplicates(customers))\n"
      ],
      "metadata": {
        "colab": {
          "base_uri": "https://localhost:8080/"
        },
        "id": "8Htc8Y0gQ2Jb",
        "outputId": "6991421a-adaf-40e1-a64b-08e2234f1515"
      },
      "execution_count": 24,
      "outputs": [
        {
          "output_type": "stream",
          "name": "stdout",
          "text": [
            "[101, 102]\n"
          ]
        }
      ]
    },
    {
      "cell_type": "code",
      "source": [
        "# Task:Use pandas to: 1) Group by region 2) Calculate total sales per region 3) Sort the result in descending order of sales\n",
        "\n",
        "import pandas as pd\n",
        "\n",
        "df = pd.DataFrame({\n",
        "    'region': ['north', 'south', 'north', 'south'],\n",
        "    'sales': [100, 150, 200, 50]\n",
        "})\n"
      ],
      "metadata": {
        "id": "x0jah68xS4Uo"
      },
      "execution_count": 25,
      "outputs": []
    },
    {
      "cell_type": "code",
      "source": [
        "#Group by Region\n",
        "df_grouped = df.groupby('region')['sales'].sum().reset_index()\n",
        "df_grouped=df_grouped.sort_values(by ='sales',ascending = False)\n",
        "print(df_grouped )"
      ],
      "metadata": {
        "colab": {
          "base_uri": "https://localhost:8080/"
        },
        "id": "XQlVtIQhVdM5",
        "outputId": "533dd5f4-174d-4943-b760-a0d71ce91c38"
      },
      "execution_count": 36,
      "outputs": [
        {
          "output_type": "stream",
          "name": "stdout",
          "text": [
            "  region  sales\n",
            "0  north    300\n",
            "1  south    200\n"
          ]
        }
      ]
    },
    {
      "cell_type": "markdown",
      "source": [
        "Expected Output = [\n",
        "  {\"product_id\": 101, \"category\": \"books\", \"price\": 9.99},\n",
        "  {\"product_id\": 102, \"category\": \"electronics\", \"price\": 49.99},\n",
        "]\n"
      ],
      "metadata": {
        "id": "pnGAoVI7oKnQ"
      }
    }
  ]
}